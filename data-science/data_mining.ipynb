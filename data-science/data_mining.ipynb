{
 "cells": [
  {
   "cell_type": "code",
   "execution_count": 2,
   "id": "9d537fe8-d344-44e5-a547-41cc3e9068c4",
   "metadata": {},
   "outputs": [],
   "source": [
    "import requests\n",
    "\n",
    "url = \"https://www.kurzy.cz/\"\n",
    "response = requests.get(url)"
   ]
  },
  {
   "cell_type": "code",
   "execution_count": 3,
   "id": "2b75dd49-d90c-4cd5-a402-08b42b9dbce3",
   "metadata": {},
   "outputs": [
    {
     "data": {
      "text/plain": [
       "<Response [200]>"
      ]
     },
     "execution_count": 3,
     "metadata": {},
     "output_type": "execute_result"
    }
   ],
   "source": [
    "response"
   ]
  },
  {
   "cell_type": "code",
   "execution_count": 9,
   "id": "f03db349-a42b-4ce5-bf7c-2da61af3eb3a",
   "metadata": {},
   "outputs": [
    {
     "data": {
      "text/plain": [
       "31"
      ]
     },
     "execution_count": 9,
     "metadata": {},
     "output_type": "execute_result"
    }
   ],
   "source": [
    "from bs4 import BeautifulSoup\n",
    "\n",
    "soup = BeautifulSoup(response.text, 'html.parser')\n",
    "\n",
    "records = soup.find_all(\"div\", class_=\"rowcl\")\n",
    "len(records)"
   ]
  },
  {
   "cell_type": "code",
   "execution_count": 18,
   "id": "f197ee34-a03e-4b12-92f6-6e008a24c865",
   "metadata": {},
   "outputs": [],
   "source": [
    "import pandas"
   ]
  },
  {
   "cell_type": "code",
   "execution_count": 22,
   "id": "a14a7fd0-3341-4de5-80cd-da867f9f650d",
   "metadata": {},
   "outputs": [],
   "source": [
    "burza = []\n",
    "for record in records:\n",
    "    #print(record)\n",
    "    title = record.find(\"a\", class_=\"cola\")\n",
    "    value = record.find(\"span\", class_=\"colb\")\n",
    "    if title is not None and value is not None:\n",
    "        #print(title.text)\n",
    "        cena = value.text\n",
    "        cena = cena.replace(\",\", \"\")\n",
    "        burza.append([title.text, float(cena)])\n"
   ]
  },
  {
   "cell_type": "code",
   "execution_count": 23,
   "id": "ecb1fe9b-df14-4f32-a266-d00e784c2ca3",
   "metadata": {},
   "outputs": [
    {
     "data": {
      "text/plain": [
       "[['COLT CZ GROUP SE', 764.0],\n",
       " ['ČEZ', 1289.0],\n",
       " ['ERSTE GROUP BANK A', 2008.0],\n",
       " ['GEN DIGITAL', 585.0],\n",
       " ['KOFOLA CS', 496.0],\n",
       " ['KOMERČNÍ BANKA', 1055.0],\n",
       " ['MONETA MONEY BANK', 177.6]]"
      ]
     },
     "execution_count": 23,
     "metadata": {},
     "output_type": "execute_result"
    }
   ],
   "source": [
    "burza"
   ]
  },
  {
   "cell_type": "code",
   "execution_count": 27,
   "id": "4d56858c-1a92-4e26-9ac9-e5f0c66f2c75",
   "metadata": {},
   "outputs": [],
   "source": [
    "x=pandas.DataFrame(burza, columns=[\"Titul\", \"Cena\"])"
   ]
  },
  {
   "cell_type": "code",
   "execution_count": 28,
   "id": "dff8b87a-0c91-485f-b934-535f82f5a27d",
   "metadata": {},
   "outputs": [],
   "source": [
    "x.set_index(\"Titul\", inplace=True)"
   ]
  },
  {
   "cell_type": "code",
   "execution_count": 29,
   "id": "277d3e32-1957-45e2-8be3-c617b7974452",
   "metadata": {},
   "outputs": [
    {
     "data": {
      "text/html": [
       "<div>\n",
       "<style scoped>\n",
       "    .dataframe tbody tr th:only-of-type {\n",
       "        vertical-align: middle;\n",
       "    }\n",
       "\n",
       "    .dataframe tbody tr th {\n",
       "        vertical-align: top;\n",
       "    }\n",
       "\n",
       "    .dataframe thead th {\n",
       "        text-align: right;\n",
       "    }\n",
       "</style>\n",
       "<table border=\"1\" class=\"dataframe\">\n",
       "  <thead>\n",
       "    <tr style=\"text-align: right;\">\n",
       "      <th></th>\n",
       "      <th>Cena</th>\n",
       "    </tr>\n",
       "    <tr>\n",
       "      <th>Titul</th>\n",
       "      <th></th>\n",
       "    </tr>\n",
       "  </thead>\n",
       "  <tbody>\n",
       "    <tr>\n",
       "      <th>COLT CZ GROUP SE</th>\n",
       "      <td>764.0</td>\n",
       "    </tr>\n",
       "    <tr>\n",
       "      <th>ČEZ</th>\n",
       "      <td>1289.0</td>\n",
       "    </tr>\n",
       "    <tr>\n",
       "      <th>ERSTE GROUP BANK A</th>\n",
       "      <td>2008.0</td>\n",
       "    </tr>\n",
       "    <tr>\n",
       "      <th>GEN DIGITAL</th>\n",
       "      <td>585.0</td>\n",
       "    </tr>\n",
       "    <tr>\n",
       "      <th>KOFOLA CS</th>\n",
       "      <td>496.0</td>\n",
       "    </tr>\n",
       "    <tr>\n",
       "      <th>KOMERČNÍ BANKA</th>\n",
       "      <td>1055.0</td>\n",
       "    </tr>\n",
       "    <tr>\n",
       "      <th>MONETA MONEY BANK</th>\n",
       "      <td>177.6</td>\n",
       "    </tr>\n",
       "  </tbody>\n",
       "</table>\n",
       "</div>"
      ],
      "text/plain": [
       "                      Cena\n",
       "Titul                     \n",
       "COLT CZ GROUP SE     764.0\n",
       "ČEZ                 1289.0\n",
       "ERSTE GROUP BANK A  2008.0\n",
       "GEN DIGITAL          585.0\n",
       "KOFOLA CS            496.0\n",
       "KOMERČNÍ BANKA      1055.0\n",
       "MONETA MONEY BANK    177.6"
      ]
     },
     "execution_count": 29,
     "metadata": {},
     "output_type": "execute_result"
    }
   ],
   "source": [
    "x"
   ]
  },
  {
   "cell_type": "code",
   "execution_count": null,
   "id": "bf43b16e-809f-4c3a-bb7f-961d766082e8",
   "metadata": {},
   "outputs": [],
   "source": []
  }
 ],
 "metadata": {
  "kernelspec": {
   "display_name": "Python 3 (ipykernel)",
   "language": "python",
   "name": "python3"
  },
  "language_info": {
   "codemirror_mode": {
    "name": "ipython",
    "version": 3
   },
   "file_extension": ".py",
   "mimetype": "text/x-python",
   "name": "python",
   "nbconvert_exporter": "python",
   "pygments_lexer": "ipython3",
   "version": "3.12.10"
  }
 },
 "nbformat": 4,
 "nbformat_minor": 5
}
